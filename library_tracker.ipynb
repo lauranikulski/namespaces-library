{
 "cells": [
  {
   "cell_type": "markdown",
   "id": "d204ed38",
   "metadata": {},
   "source": [
    "![banner](libpy.jpg)"
   ]
  },
  {
   "cell_type": "markdown",
   "id": "db6d5104",
   "metadata": {},
   "source": [
    "# Project: Library Checkout System\n",
    "## Practicing and learning about namespaces in Python "
   ]
  },
  {
   "cell_type": "markdown",
   "id": "9bb693d0",
   "metadata": {},
   "source": [
    "- this meet-up: inspired by the [Namespaces and Scope](https://www.codecademy.com/courses/learn-intermediate-python-3/lessons/python-namespaces/exercises/review) lessons on Codecademy (part of their Learn Intermediate Python 3 course)\n",
    "- this from my study notes: \n",
    "<br>\n",
    "--   Python will go from lowest to highest level in namespaces/scope when executing a function \n",
    "<br>\n",
    "--   the levels can be remembered as an LEGB onion (local-enclosing-global-built in)\n",
    "<br>\n",
    "--   local means the lowest level of namespace \n",
    "<br>\n",
    "--  enclosing is one level up, nested within a function \n",
    "<br>\n",
    "--  a global variable is declared outside of a function \n"
   ]
  },
  {
   "cell_type": "code",
   "execution_count": 8,
   "id": "1a9abe4a",
   "metadata": {},
   "outputs": [
    {
     "name": "stdout",
     "output_type": "stream",
     "text": [
      "Added item: $10\n",
      "Added item: $20\n",
      "Cart total: 30\n",
      "Items in cart: 2\n",
      "Total sales: 30\n"
     ]
    }
   ],
   "source": [
    "# example for illustration purposes\n",
    "total_sales = 0  # global variable \n",
    "\n",
    "def shopping_cart():\n",
    "    cart_total = 0  # enclosing level variable\n",
    "\n",
    "    def add_item(price):\n",
    "        nonlocal cart_total # nonlocal keyword makes cart_total modifiable, without it would be immutable\n",
    "        cart_total += price  # modify enclosing variable\n",
    "        print(f\"Added item: ${price}\")  # local variable\n",
    "\n",
    "    add_item(10)\n",
    "    add_item(20)\n",
    "    print(\"Cart total:\", cart_total)\n",
    "    print(\"Items in cart:\", len([10, 20]))  # built-in function\n",
    "\n",
    "    global total_sales # global keyword makes the global variable accessible and modifiable\n",
    "    total_sales += cart_total  # modify global\n",
    "\n",
    "shopping_cart()\n",
    "print(\"Total sales:\", total_sales)\n"
   ]
  },
  {
   "cell_type": "markdown",
   "id": "22a91247",
   "metadata": {},
   "source": [
    "--   built-in namespaces can be accessed via `print(dir(builtins))`\n",
    "\n",
    "##### output for Python built-in functions\n",
    "['ArithmeticError', 'AssertionError', 'AttributeError', 'BaseException', 'BlockingIOError', 'BrokenPipeError', 'BufferError', 'BytesWarning', 'ChildProcessError', 'ConnectionAbortedError', 'ConnectionError', 'ConnectionRefusedError', 'ConnectionResetError', 'DeprecationWarning', 'EOFError', 'Ellipsis', 'EnvironmentError', 'Exception', 'False', 'FileExistsError', 'FileNotFoundError', 'FloatingPointError', 'FutureWarning', 'GeneratorExit', 'IOError', 'ImportError', 'ImportWarning', 'IndentationError', 'IndexError', 'InterruptedError', 'IsADirectoryError', 'KeyError', 'KeyboardInterrupt', 'LookupError', 'MemoryError', 'ModuleNotFoundError', 'NameError', 'None', 'NotADirectoryError', 'NotImplemented', 'NotImplementedError', 'OSError', 'OverflowError', 'PendingDeprecationWarning', 'PermissionError', 'ProcessLookupError', 'RecursionError', 'ReferenceError', 'ResourceWarning', 'RuntimeError', 'RuntimeWarning', 'StopAsyncIteration', 'StopIteration', 'SyntaxError', 'SyntaxWarning', 'SystemError', 'SystemExit', 'TabError', 'TimeoutError', 'True', 'TypeError', 'UnboundLocalError', 'UnicodeDecodeError', 'UnicodeEncodeError', 'UnicodeError', 'UnicodeTranslateError', 'UnicodeWarning', 'UserWarning', 'ValueError', 'Warning', 'ZeroDivisionError', '__build_class__', '__debug__', '__doc__', '__import__', '__loader__', '__name__', '__package__', '__spec__', 'abs', 'all', 'any', 'ascii', 'bin', 'bool', 'bytearray', 'bytes', 'callable', 'chr', 'classmethod', 'compile', 'complex', 'copyright', 'credits', 'delattr', 'dict', 'dir', 'divmod', 'enumerate', 'eval', 'exec', 'exit', 'filter', 'float', 'format', 'frozenset', 'getattr', 'globals', 'hasattr', 'hash', 'help', 'hex', 'id', 'input', 'int', 'isinstance', 'issubclass', 'iter', 'len', 'license', 'list', 'locals', 'map', 'max', 'memoryview', 'min', 'next', 'object', 'oct', 'open', 'ord', 'pow', 'print', 'property', 'quit', 'range', 'repr', 'reversed', 'round', 'set', 'setattr', 'slice', 'sorted', 'staticmethod', 'str', 'sum', 'super', 'tuple', 'type', 'vars', 'zip']"
   ]
  },
  {
   "cell_type": "markdown",
   "id": "2c2a68b5",
   "metadata": {},
   "source": [
    "# Library Checkout Systen\n",
    "## Functions that a library checkout system should have"
   ]
  },
  {
   "cell_type": "markdown",
   "id": "7175f2cd",
   "metadata": {},
   "source": [
    "Generally, the checkout system should have a handful of common functions: \n",
    "1. a function that lets library visitors check out a book \n",
    "<br>\n",
    "    1.1 it should also add it to their reading list\n",
    "2. a function that helps visitors return a book \n",
    "<br>\n",
    "    2.1 it should also check if the visitor is due any late fees\n",
    "3. a function that helps visitors check if a book is currently on loan \n",
    "<br>\n",
    "    3. 1 if yes, until when, or if it is available to borrow"
   ]
  },
  {
   "cell_type": "markdown",
   "id": "dd1ee2d0",
   "metadata": {},
   "source": [
    "### Function 1: Check out a book and add it to reading list"
   ]
  },
  {
   "cell_type": "code",
   "execution_count": 9,
   "id": "93d6155b",
   "metadata": {},
   "outputs": [],
   "source": [
    "# define global variables\n",
    "\n",
    "book_catalogue = {\n",
    "    1: {\n",
    "        'author': 'Aldous Huxley', \n",
    "        'title' : 'Brave New World'\n",
    "    }, \n",
    "    2: {\n",
    "        'author': 'Jane Austen', \n",
    "        'title' : 'Pride and Prejudice'\n",
    "    }, \n",
    "    3: {\n",
    "        'author': 'Truman Capote', \n",
    "        'title' : 'In Cold Blood'\n",
    "    }\n",
    "}"
   ]
  },
  {
   "cell_type": "code",
   "execution_count": null,
   "id": "e0209430",
   "metadata": {},
   "outputs": [
    {
     "ename": "_IncompleteInputError",
     "evalue": "incomplete input (3418592201.py, line 19)",
     "output_type": "error",
     "traceback": [
      "  \u001b[36mCell\u001b[39m\u001b[36m \u001b[39m\u001b[32mIn[10]\u001b[39m\u001b[32m, line 19\u001b[39m\n\u001b[31m    \u001b[39m\u001b[31mclass Book:\u001b[39m\n                ^\n\u001b[31m_IncompleteInputError\u001b[39m\u001b[31m:\u001b[39m incomplete input\n"
     ]
    }
   ],
   "source": [
    "# write books, patrons (library visitors) as classes since there will be many instances of both \n",
    "\n",
    "class Patron: \n",
    "    def __init__(self, input_name, input_checkedout, input_readinglist, input_overdue, input_book):\n",
    "        self.myname = input_name\n",
    "        self.mycheckedoutbooks = input_checkedout\n",
    "        self.myreadinglist = input_readinglist\n",
    "        self.overduefees = input_overdue\n",
    "        self.book = input_book\n",
    "    \n",
    "    def borrow_a_book(self):\n",
    "        self.mycheckedoutbooks.append(self.book)\n",
    "\n",
    "    def return_a_book(self): \n",
    "        self.mycheckedoutbooks.pop(self.book)\n",
    "        self.myreadinglist.append(self.book)\n",
    "\n",
    "\n",
    "class Book: "
   ]
  }
 ],
 "metadata": {
  "kernelspec": {
   "display_name": ".venv",
   "language": "python",
   "name": "python3"
  },
  "language_info": {
   "codemirror_mode": {
    "name": "ipython",
    "version": 3
   },
   "file_extension": ".py",
   "mimetype": "text/x-python",
   "name": "python",
   "nbconvert_exporter": "python",
   "pygments_lexer": "ipython3",
   "version": "3.13.2"
  }
 },
 "nbformat": 4,
 "nbformat_minor": 5
}
